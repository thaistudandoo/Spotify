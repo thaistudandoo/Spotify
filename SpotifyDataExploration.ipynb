{
 "cells": [
  {
   "cell_type": "markdown",
   "metadata": {},
   "source": [
    "<center><h1> Spotify Data Exploration </h1>\n",
    "\n",
    "\n",
    "**Autor:**\n",
    "    Thaís Marins\n",
    "\n",
    "**Base de dados utilizada:**\n",
    "   [ Spotify Tracks Dataset by Kaggle](https://www.kaggle.com/datasets/maharshipandya/-spotify-tracks-dataset?utm_source=ActiveCampaign&utm_medium=email&utm_content=%237DaysOfCode+-+Machine+Learning+1%2F7%3A+Coleta+de+dados+e+An%C3%A1lise+Explorat%C3%B3ria&utm_campaign=%5BAlura+%237Days+Of+Code%5D%28Js+e+DOM+-+3%C2%AA+Ed+%29+1%2F7)\n",
    "\n",
    "\n",
    "Análise exploratória dos dados do Spotify aplicando técnicas de *Machine Learning* para prever a popularidade musical. \n",
    "</center>"
   ]
  },
  {
   "cell_type": "markdown",
   "metadata": {},
   "source": [
    "\n",
    "#### **Desenvolvimento do Projeto**\n",
    "\n",
    "Desafio #7DaysOfCode proporcionado pela Alura para incentivar a prática dos estudos de *Machine Learning*.\n",
    "\n",
    "\n",
    "**Tecnologias utilizadas:**\n",
    "    Python, Jupyter Notebook, Machine Learning, Análise de Dados\n",
    "    \n",
    "    \n",
    "**Bibliotecas utilizadas:**\n",
    "    Pandas, Numpy, Matplotlib, Seaborn, Scikit-Learn, Keras\n",
    "\n",
    "**Motivação:**\n",
    "     Com o projeto é possível identificar características musicais que estão correlacionadas com a popularidade e, assim, criar músicas com maior potencial de sucesso. Além disso, a  popularidade pode ser útil para os usuários do Spotify, pois pode ajudá-los a descobrir novas músicas e artistas de seu interesse com base nos gostos musicais.\n"
   ]
  },
  {
   "cell_type": "markdown",
   "metadata": {},
   "source": [
    "* **Dia 01:** Coleta de dados e Análise Exploratória\n",
    "* **Dia 02:** Entendendo conceitos iniciais de Machine Learning e Pré-Processamento de Dados\n",
    "* **Dia 03:** Divisão dos dados e validação cruzada\n",
    "* **Dia 04:** Definindo a baseline e treinando o primeiro modelo\n",
    "* **Dia 05:** Validação de modelos de Machine Learning\n",
    "* **Dia 06:** Reamostragem de dados\n",
    "* **Dia 07:** Aplicando o modelo nos dados de teste e salvando os resultados\n",
    "\n"
   ]
  },
  {
   "cell_type": "markdown",
   "metadata": {},
   "source": [
    "olassssss"
   ]
  },
  {
   "cell_type": "code",
   "execution_count": null,
   "metadata": {},
   "outputs": [],
   "source": [
    "import panda as pd"
   ]
  }
 ],
 "metadata": {
  "language_info": {
   "name": "python"
  },
  "orig_nbformat": 4
 },
 "nbformat": 4,
 "nbformat_minor": 2
}
